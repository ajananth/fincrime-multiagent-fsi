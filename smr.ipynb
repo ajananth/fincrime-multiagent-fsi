{
 "cells": [
  {
   "cell_type": "markdown",
   "metadata": {},
   "source": [
    "### Financial Crime & Suspicious Matter Reporting - LLM-based Agentic Solution\n",
    "\n",
    "This sample code has been put together to demonstrate the capabilities of LLMs in being able to detect money laundering and other financial crime related activities. The example below demonstrates the use of LLM-based agents to identify suspicious activities from a call-centre log and draft a suspicious matter report."
   ]
  },
  {
   "cell_type": "markdown",
   "metadata": {},
   "source": [
    "The multi-agent example published by Microsoft has been used as a reference for this notebook - https://github.com/Azure-Samples/azureai-samples/blob/main/scenarios/Assistants/multi-agent/multi-agent.ipynb\n"
   ]
  },
  {
   "cell_type": "code",
   "execution_count": 164,
   "metadata": {},
   "outputs": [],
   "source": [
    "# Uncomment line below to install dependencies; re-comment after installation.\n",
    "# %pip install -r requirements.txt"
   ]
  },
  {
   "cell_type": "code",
   "execution_count": 165,
   "metadata": {},
   "outputs": [],
   "source": [
    "import os\n",
    "import time\n",
    "from dotenv import load_dotenv\n",
    "from openai import AzureOpenAI\n",
    "from openai.types.beta import Thread\n",
    "from openai.types.beta import Assistant\n",
    "\n",
    "load_dotenv()\n",
    "\n",
    "assistant_client = AzureOpenAI(\n",
    "    api_key=os.getenv(\"GPT4_AZURE_OPENAI_KEY\"),\n",
    "    api_version=os.getenv(\"GPT4_AZURE_OPENAI_API_VERSION\"),\n",
    "    azure_endpoint=os.getenv(\n",
    "        \"GPT4_AZURE_OPENAI_ENDPOINT\"\n",
    "    ),\n",
    ")\n",
    "\n",
    "assistant_deployment_name = os.getenv(\n",
    "    \"GPT4_DEPLOYMENT_NAME\"\n",
    ")"
   ]
  },
  {
   "cell_type": "code",
   "execution_count": 166,
   "metadata": {},
   "outputs": [],
   "source": [
    "name_reviewer = \"reviewer_assistant\"\n",
    "instructions_reviewer = \"\"\"You are an assistant that understands guidelines published by AUSTRAC for detecting anti-money laundering and financial crime activities. Your job is to review the log from a call centre interaction between an agent and a customer and detect any suspicious activities. Generate a detailed summary with specific points on the suspicious activities.\"\"\"\n",
    "\n",
    "verbose_output = True"
   ]
  },
  {
   "cell_type": "code",
   "execution_count": 167,
   "metadata": {},
   "outputs": [],
   "source": [
    "reviewer_assistant = assistant_client.beta.assistants.create(\n",
    "    name=name_reviewer, instructions=instructions_reviewer, model=assistant_deployment_name\n",
    ")"
   ]
  },
  {
   "cell_type": "code",
   "execution_count": 168,
   "metadata": {},
   "outputs": [],
   "source": [
    "name_reportwriter = \"reportwriter_assistant\"\n",
    "instructions_reportwriter = \"\"\"You are an assistant that receives a list of suspicious activities and then drafts a Suspicious Matter Report (SMR) for it based on AUSTRAC's published guidelines. Ensure the report aligns with the format required by AUSTRAC.\"\"\"\n",
    "\n",
    "verbose_output = True"
   ]
  },
  {
   "cell_type": "code",
   "execution_count": 169,
   "metadata": {},
   "outputs": [],
   "source": [
    "reportwriter_assistant = assistant_client.beta.assistants.create(\n",
    "    name=name_reportwriter, instructions=instructions_reportwriter, model=assistant_deployment_name\n",
    ")"
   ]
  },
  {
   "cell_type": "code",
   "execution_count": 170,
   "metadata": {},
   "outputs": [],
   "source": [
    "name_approver = \"approver_assistant\"\n",
    "instructions_approver = \"\"\"You are an assistant that understands AUSTRAC's published guidelines for Suspicious Matter Reporting (SMR). Your job is to review a draft SMR and ensure it captures all suspicious activities that were previously identified.\"\"\"\n",
    "\n",
    "verbose_output = True"
   ]
  },
  {
   "cell_type": "code",
   "execution_count": 171,
   "metadata": {},
   "outputs": [],
   "source": [
    "approver_assistant = assistant_client.beta.assistants.create(\n",
    "    name=name_approver, instructions=instructions_approver, model=assistant_deployment_name\n",
    ")"
   ]
  },
  {
   "cell_type": "code",
   "execution_count": 172,
   "metadata": {},
   "outputs": [],
   "source": [
    "thread = assistant_client.beta.threads.create()"
   ]
  },
  {
   "cell_type": "code",
   "execution_count": 173,
   "metadata": {},
   "outputs": [],
   "source": [
    "user_message = f\"\"\"\n",
    "    << Add call-centre log here >>\n",
    "    \"\"\""
   ]
  },
  {
   "cell_type": "code",
   "execution_count": 174,
   "metadata": {},
   "outputs": [],
   "source": [
    "def run_assistant(assistant_id, thread_id, instructions):\n",
    "    run = assistant_client.beta.threads.runs.create(\n",
    "        thread_id=thread_id,\n",
    "        assistant_id=assistant_id,\n",
    "        instructions=instructions,\n",
    "    )\n",
    "\n",
    "    while True:\n",
    "        run = assistant_client.beta.threads.runs.retrieve(thread_id=thread.id, run_id=run.id)\n",
    "\n",
    "        if run.status==\"completed\":\n",
    "            print(\"Done!\")\n",
    "            break\n",
    "        else:\n",
    "            print(\"Task executing ...\")\n",
    "            time.sleep(5)"
   ]
  },
  {
   "cell_type": "code",
   "execution_count": 175,
   "metadata": {},
   "outputs": [],
   "source": [
    "def print_messages(thread_id):\n",
    "    messages = assistant_client.beta.threads.messages.list(\n",
    "      thread_id=thread_id\n",
    "    )\n",
    "\n",
    "    for msg in messages.data:\n",
    "        for content_item in msg.content:\n",
    "            print(content_item.text.value)"
   ]
  },
  {
   "cell_type": "code",
   "execution_count": 176,
   "metadata": {},
   "outputs": [
    {
     "name": "stdout",
     "output_type": "stream",
     "text": [
      "Task executing ...\n",
      "Task executing ...\n",
      "Task executing ...\n",
      "Task executing ...\n",
      "Task executing ...\n",
      "Task executing ...\n",
      "Task executing ...\n",
      "Task executing ...\n",
      "Task executing ...\n",
      "Done!\n"
     ]
    }
   ],
   "source": [
    "run_assistant(\n",
    "    reviewer_assistant.id, \n",
    "    thread.id, \n",
    "    f\"Review the conversation log provided and draft a summary of suspicious activities - \" + user_message\n",
    ")"
   ]
  },
  {
   "cell_type": "code",
   "execution_count": null,
   "metadata": {},
   "outputs": [],
   "source": [
    "print_messages(thread.id)"
   ]
  },
  {
   "cell_type": "code",
   "execution_count": 178,
   "metadata": {},
   "outputs": [
    {
     "name": "stdout",
     "output_type": "stream",
     "text": [
      "Task executing ...\n",
      "Task executing ...\n",
      "Task executing ...\n",
      "Task executing ...\n",
      "Task executing ...\n",
      "Task executing ...\n",
      "Task executing ...\n",
      "Task executing ...\n",
      "Task executing ...\n",
      "Task executing ...\n",
      "Task executing ...\n",
      "Task executing ...\n",
      "Done!\n"
     ]
    }
   ],
   "source": [
    "run_assistant(\n",
    "    reportwriter_assistant.id, \n",
    "    thread.id, \n",
    "    f\"Review the summary of suspicious activities written by the reviewer_assistant assitant and draft a Suspicious Matter Report (SMR)\"\n",
    ")"
   ]
  },
  {
   "cell_type": "code",
   "execution_count": null,
   "metadata": {},
   "outputs": [],
   "source": [
    "print_messages(thread.id)"
   ]
  },
  {
   "cell_type": "code",
   "execution_count": 180,
   "metadata": {},
   "outputs": [
    {
     "name": "stdout",
     "output_type": "stream",
     "text": [
      "Task executing ...\n",
      "Task executing ...\n",
      "Task executing ...\n",
      "Task executing ...\n",
      "Task executing ...\n",
      "Task executing ...\n",
      "Task executing ...\n",
      "Task executing ...\n",
      "Task executing ...\n",
      "Task executing ...\n",
      "Task executing ...\n",
      "Task executing ...\n",
      "Task executing ...\n",
      "Task executing ...\n",
      "Done!\n"
     ]
    }
   ],
   "source": [
    "run_assistant(\n",
    "    approver_assistant.id, \n",
    "    thread.id, \n",
    "    f\"Check the Suspicious Matter Report (SMR) created by the reportwriter_assistant assistant and make sure all points mentioned in the summary of suspicious activities generated by the reviewer_assistant assitant are captured in the final report.\"\n",
    ")"
   ]
  },
  {
   "cell_type": "code",
   "execution_count": null,
   "metadata": {},
   "outputs": [],
   "source": [
    "print_messages(thread.id)"
   ]
  },
  {
   "cell_type": "code",
   "execution_count": 182,
   "metadata": {},
   "outputs": [],
   "source": [
    "# Clean-up\n",
    "response = assistant_client.beta.assistants.delete(reviewer_assistant.id)\n",
    "response = assistant_client.beta.assistants.delete(reportwriter_assistant.id)"
   ]
  }
 ],
 "metadata": {
  "colab": {
   "authorship_tag": "ABX9TyMTFqnHcNCOfGXY2H+UtzIz",
   "provenance": []
  },
  "kernelspec": {
   "display_name": "Python 3",
   "name": "python3"
  },
  "language_info": {
   "codemirror_mode": {
    "name": "ipython",
    "version": 3
   },
   "file_extension": ".py",
   "mimetype": "text/x-python",
   "name": "python",
   "nbconvert_exporter": "python",
   "pygments_lexer": "ipython3",
   "version": "3.11.9"
  }
 },
 "nbformat": 4,
 "nbformat_minor": 0
}
