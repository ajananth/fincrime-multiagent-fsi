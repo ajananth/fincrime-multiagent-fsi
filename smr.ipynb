{
 "cells": [
  {
   "cell_type": "markdown",
   "metadata": {},
   "source": [
    "### Financial Crime & Suspicious Matter Reporting - LLM-based Agentic Solution\n",
    "\n",
    "This sample code has been put together to demonstrate the capabilities of LLMs in being able to detect money laundering and other financial crime related activities. The example below demonstrates the use of LLM-based agents to identify suspicious activities from a call-centre log and draft a suspicious matter report."
   ]
  },
  {
   "cell_type": "markdown",
   "metadata": {},
   "source": [
    "The multi-agent example published by Microsoft has been used as a reference for this notebook - https://github.com/Azure-Samples/azureai-samples/blob/main/scenarios/Assistants/multi-agent/multi-agent.ipynb\n"
   ]
  },
  {
   "cell_type": "code",
   "execution_count": 164,
   "metadata": {},
   "outputs": [],
   "source": [
    "# Uncomment line below to install dependencies; re-comment after installation.\n",
    "# %pip install -r requirements.txt"
   ]
  },
  {
   "cell_type": "code",
   "execution_count": 165,
   "metadata": {},
   "outputs": [],
   "source": [
    "import os\n",
    "import time\n",
    "from dotenv import load_dotenv\n",
    "from openai import AzureOpenAI\n",
    "from openai.types.beta import Thread\n",
    "from openai.types.beta import Assistant\n",
    "\n",
    "load_dotenv()\n",
    "\n",
    "assistant_client = AzureOpenAI(\n",
    "    api_key=os.getenv(\"GPT4_AZURE_OPENAI_KEY\"),\n",
    "    api_version=os.getenv(\"GPT4_AZURE_OPENAI_API_VERSION\"),\n",
    "    azure_endpoint=os.getenv(\n",
    "        \"GPT4_AZURE_OPENAI_ENDPOINT\"\n",
    "    ),\n",
    ")\n",
    "\n",
    "assistant_deployment_name = os.getenv(\n",
    "    \"GPT4_DEPLOYMENT_NAME\"\n",
    ")"
   ]
  },
  {
   "cell_type": "code",
   "execution_count": 166,
   "metadata": {},
   "outputs": [],
   "source": [
    "name_reviewer = \"reviewer_assistant\"\n",
    "instructions_reviewer = \"\"\"You are an assistant that understands guidelines published by AUSTRAC for detecting anti-money laundering and financial crime activities. Your job is to review the log from a call centre interaction between an agent and a customer and detect any suspicious activities. Generate a detailed summary with specific points on the suspicious activities.\"\"\"\n",
    "\n",
    "verbose_output = True"
   ]
  },
  {
   "cell_type": "code",
   "execution_count": 167,
   "metadata": {},
   "outputs": [],
   "source": [
    "reviewer_assistant = assistant_client.beta.assistants.create(\n",
    "    name=name_reviewer, instructions=instructions_reviewer, model=assistant_deployment_name\n",
    ")"
   ]
  },
  {
   "cell_type": "code",
   "execution_count": 168,
   "metadata": {},
   "outputs": [],
   "source": [
    "name_reportwriter = \"reportwriter_assistant\"\n",
    "instructions_reportwriter = \"\"\"You are an assistant that receives a list of suspicious activities and then drafts a Suspicious Matter Report (SMR) for it based on AUSTRAC's published guidelines. Ensure the report aligns with the format required by AUSTRAC.\"\"\"\n",
    "\n",
    "verbose_output = True"
   ]
  },
  {
   "cell_type": "code",
   "execution_count": 169,
   "metadata": {},
   "outputs": [],
   "source": [
    "reportwriter_assistant = assistant_client.beta.assistants.create(\n",
    "    name=name_reportwriter, instructions=instructions_reportwriter, model=assistant_deployment_name\n",
    ")"
   ]
  },
  {
   "cell_type": "code",
   "execution_count": 170,
   "metadata": {},
   "outputs": [],
   "source": [
    "name_approver = \"approver_assistant\"\n",
    "instructions_approver = \"\"\"You are an assistant that understands AUSTRAC's published guidelines for Suspicious Matter Reporting (SMR). Your job is to review a draft SMR and ensure it captures all suspicious activities that were previously identified.\"\"\"\n",
    "\n",
    "verbose_output = True"
   ]
  },
  {
   "cell_type": "code",
   "execution_count": 171,
   "metadata": {},
   "outputs": [],
   "source": [
    "approver_assistant = assistant_client.beta.assistants.create(\n",
    "    name=name_approver, instructions=instructions_approver, model=assistant_deployment_name\n",
    ")"
   ]
  },
  {
   "cell_type": "code",
   "execution_count": 172,
   "metadata": {},
   "outputs": [],
   "source": [
    "thread = assistant_client.beta.threads.create()"
   ]
  },
  {
   "cell_type": "code",
   "execution_count": 173,
   "metadata": {},
   "outputs": [],
   "source": [
    "user_message = f\"\"\"\n",
    "    << Add call-centre log here >>\n",
    "    \"\"\""
   ]
  },
  {
   "cell_type": "code",
   "execution_count": 174,
   "metadata": {},
   "outputs": [],
   "source": [
    "def run_assistant(assistant_id, thread_id, instructions):\n",
    "    run = assistant_client.beta.threads.runs.create(\n",
    "        thread_id=thread_id,\n",
    "        assistant_id=assistant_id,\n",
    "        instructions=instructions,\n",
    "    )\n",
    "\n",
    "    while True:\n",
    "        run = assistant_client.beta.threads.runs.retrieve(thread_id=thread.id, run_id=run.id)\n",
    "\n",
    "        if run.status==\"completed\":\n",
    "            print(\"Done!\")\n",
    "            break\n",
    "        else:\n",
    "            print(\"Task executing ...\")\n",
    "            time.sleep(5)"
   ]
  },
  {
   "cell_type": "code",
   "execution_count": 175,
   "metadata": {},
   "outputs": [],
   "source": [
    "def print_messages(thread_id):\n",
    "    messages = assistant_client.beta.threads.messages.list(\n",
    "      thread_id=thread_id\n",
    "    )\n",
    "\n",
    "    for msg in messages.data:\n",
    "        for content_item in msg.content:\n",
    "            print(content_item.text.value)"
   ]
  },
  {
   "cell_type": "code",
   "execution_count": 176,
   "metadata": {},
   "outputs": [
    {
     "name": "stdout",
     "output_type": "stream",
     "text": [
      "Task executing ...\n",
      "Task executing ...\n",
      "Task executing ...\n",
      "Task executing ...\n",
      "Task executing ...\n",
      "Task executing ...\n",
      "Task executing ...\n",
      "Task executing ...\n",
      "Task executing ...\n",
      "Done!\n"
     ]
    }
   ],
   "source": [
    "run_assistant(\n",
    "    reviewer_assistant.id, \n",
    "    thread.id, \n",
    "    f\"Review the conversation log provided and draft a summary of suspicious activities - \" + user_message\n",
    ")"
   ]
  },
  {
   "cell_type": "code",
   "execution_count": 177,
   "metadata": {},
   "outputs": [
    {
     "name": "stdout",
     "output_type": "stream",
     "text": [
      "Summary of Suspicious Activities:\n",
      "\n",
      "1. Lack of Standard Identification: Alex Tracer, the customer, was unable to provide a standard form of identification such as an ATM card number or driver’s license, claiming to have lost the former and to be in the process of acquiring the latter. He eventually provided a passport ID for identification.\n",
      "\n",
      "2. Inconsistent Information: Alex Tracer initially provided an incorrect account number, which he then corrected. This could indicate a lack of familiarity with the account details or an attempt to deceive.\n",
      "\n",
      "3. No Phone for Verification: Despite the bank operator, Adam Krivy, attempting to complete an authentication process with a verification code sent to a mobile number, Alex claimed not to have a phone, thus avoiding this security measure.\n",
      "\n",
      "4. Urgency and Pressure: The customer repeatedly stressed the urgency of the transfers, claiming lives were at risk and expressing a strong desire to avoid bank bureaucracy, thereby trying to rush the process and potentially bypass standard security checks.\n",
      "\n",
      "5. Large International Transfers: Alex requested three large-sum transfers to different international organizations, which could raise flags as this activity could be indicative of money laundering or fraudulent activities. \n",
      "\n",
      "6. Transfers to Charities Without Adequate Information: The customer mentioned transferring money to various charities, one of which he could not provide additional information for, asking the operator to look it up. A genuine transfer would typically involve more details and accompanying documentation.\n",
      "\n",
      "7. Defensive Response: When questioned about the urgency of the transfers, Alex Tracer defensively responded that it was none of the operator’s business, further raising suspicion about the legitimacy of the request.\n",
      "\n",
      "Based on these observations, the interaction between Alex Tracer and the bank operator exhibits several red flags that could suggest potential fraudulent activity or an attempt to misuse the banking system for illicit purposes.\n"
     ]
    }
   ],
   "source": [
    "print_messages(thread.id)"
   ]
  },
  {
   "cell_type": "code",
   "execution_count": 178,
   "metadata": {},
   "outputs": [
    {
     "name": "stdout",
     "output_type": "stream",
     "text": [
      "Task executing ...\n",
      "Task executing ...\n",
      "Task executing ...\n",
      "Task executing ...\n",
      "Task executing ...\n",
      "Task executing ...\n",
      "Task executing ...\n",
      "Task executing ...\n",
      "Task executing ...\n",
      "Task executing ...\n",
      "Task executing ...\n",
      "Task executing ...\n",
      "Done!\n"
     ]
    }
   ],
   "source": [
    "run_assistant(\n",
    "    reportwriter_assistant.id, \n",
    "    thread.id, \n",
    "    f\"Review the summary of suspicious activities written by the reviewer_assistant assitant and draft a Suspicious Matter Report (SMR)\"\n",
    ")"
   ]
  },
  {
   "cell_type": "code",
   "execution_count": 179,
   "metadata": {},
   "outputs": [
    {
     "name": "stdout",
     "output_type": "stream",
     "text": [
      "SUSPICIOUS MATTER REPORT (SMR)\n",
      "\n",
      "I. Reporter Information:\n",
      "- Financial Institution: [Your Bank's Name]\n",
      "- Name of Submitter: [Your Full Name]\n",
      "- Position/Title: [Your Position/Title]\n",
      "- Contact Information: [Your Direct Phone Line and/or Email]\n",
      "- Submission Date: [Date of Submission]\n",
      "\n",
      "II. Subject Information:\n",
      "- Name of Suspect: Alex Tracer (if alias is suspected, please note)\n",
      "- Address: [Not Provided/Available]\n",
      "- Date of Birth: [Not Provided/Available]\n",
      "- Identification Type/Number: Passport ID [Number if available]\n",
      "- Occupation/Industry: [Not Provided/Available]\n",
      "- Account Number(s): [Initial Incorrect Number], [Corrected Account Number]\n",
      "  \n",
      "III. Details of Suspicious Activities:\n",
      "A summary of suspicious activities is as follows:\n",
      "1. Identification Issue: Subject failed to provide standard identification initially; eventually used a passport for ID.\n",
      "2. Account Number Discrepancy: Incorrect account number provided, later corrected.\n",
      "3. Phone Number for Verification: Subject claimed to lack a phone, evading a key security control.\n",
      "4. Urgent Transfer Requests: Subject stressed immediate action for international transfers, pressuring to circumvent normal processes.\n",
      "5. Large International Transactions: Subject requested transfers of significant amounts to international beneficiaries.\n",
      "6. Transfers to Charities: Subject was vague about recipient charities and unable to provide detailed information when asked.\n",
      "7. Defensive Behavior: Subject displayed a defensive attitude when queried about the urgency of the transactions.\n",
      "\n",
      "IV. Financial Information:\n",
      "- Transaction Date(s): [Date of Contact]\n",
      "- Transaction Amount(s): [Specify the amounts for each transfer if available]\n",
      "- Destination Account/Beneficiary Information: [List international organizations if named]\n",
      "\n",
      "V. Reason for Suspicion:\n",
      "The above activities are deemed suspicious due to the following reasons: deviation from typical customer identification protocols, lack of readily available account information by the subject that suggests unfamiliarity or deception, avoidance of critical verification procedures, the urgency applied by the customer indicative of intent to bypass due diligence, nature and direction of fund transfers atypical of regular customer activity, insufficient information concerning charitably intended transfers, and overall defensiveness, which could imply knowledge of illicit actions.\n",
      "\n",
      "VI. Action Taken:\n",
      "Upon identification of these suspicious activities, [describe the steps you have already taken, e.g., assessing ongoing risk, account monitoring, preserving records, management notification].\n",
      "\n",
      "VII. Additional Notes/Comments:\n",
      "[Any other relevant information or contextual notes should be included here].\n",
      "\n",
      "VIII. Attachments/Enclosures:\n",
      "- Transaction records [if applicable]\n",
      "- Call logs or communication transcripts with the subject [if available]\n",
      "- Identification documents provided by the subject [if obtained]\n",
      "\n",
      "IX. Declaration:\n",
      "I, [Your Full Name], hereby declare that the information provided herein is true and accurate to the best of my knowledge and belief, and that this SMR is submitted in accordance with the policies and procedures set forth by [Your Bank's Name] and the applicable laws and regulations.\n",
      "\n",
      "Signature: ___________________\n",
      "Date: [Date of Report Completion]\n",
      "Summary of Suspicious Activities:\n",
      "\n",
      "1. Lack of Standard Identification: Alex Tracer, the customer, was unable to provide a standard form of identification such as an ATM card number or driver’s license, claiming to have lost the former and to be in the process of acquiring the latter. He eventually provided a passport ID for identification.\n",
      "\n",
      "2. Inconsistent Information: Alex Tracer initially provided an incorrect account number, which he then corrected. This could indicate a lack of familiarity with the account details or an attempt to deceive.\n",
      "\n",
      "3. No Phone for Verification: Despite the bank operator, Adam Krivy, attempting to complete an authentication process with a verification code sent to a mobile number, Alex claimed not to have a phone, thus avoiding this security measure.\n",
      "\n",
      "4. Urgency and Pressure: The customer repeatedly stressed the urgency of the transfers, claiming lives were at risk and expressing a strong desire to avoid bank bureaucracy, thereby trying to rush the process and potentially bypass standard security checks.\n",
      "\n",
      "5. Large International Transfers: Alex requested three large-sum transfers to different international organizations, which could raise flags as this activity could be indicative of money laundering or fraudulent activities. \n",
      "\n",
      "6. Transfers to Charities Without Adequate Information: The customer mentioned transferring money to various charities, one of which he could not provide additional information for, asking the operator to look it up. A genuine transfer would typically involve more details and accompanying documentation.\n",
      "\n",
      "7. Defensive Response: When questioned about the urgency of the transfers, Alex Tracer defensively responded that it was none of the operator’s business, further raising suspicion about the legitimacy of the request.\n",
      "\n",
      "Based on these observations, the interaction between Alex Tracer and the bank operator exhibits several red flags that could suggest potential fraudulent activity or an attempt to misuse the banking system for illicit purposes.\n"
     ]
    }
   ],
   "source": [
    "print_messages(thread.id)"
   ]
  },
  {
   "cell_type": "code",
   "execution_count": 180,
   "metadata": {},
   "outputs": [
    {
     "name": "stdout",
     "output_type": "stream",
     "text": [
      "Task executing ...\n",
      "Task executing ...\n",
      "Task executing ...\n",
      "Task executing ...\n",
      "Task executing ...\n",
      "Task executing ...\n",
      "Task executing ...\n",
      "Task executing ...\n",
      "Task executing ...\n",
      "Task executing ...\n",
      "Task executing ...\n",
      "Task executing ...\n",
      "Task executing ...\n",
      "Task executing ...\n",
      "Done!\n"
     ]
    }
   ],
   "source": [
    "run_assistant(\n",
    "    approver_assistant.id, \n",
    "    thread.id, \n",
    "    f\"Check the Suspicious Matter Report (SMR) created by the reportwriter_assistant assistant and make sure all points mentioned in the summary of suspicious activities generated by the reviewer_assistant assitant are captured in the final report.\"\n",
    ")"
   ]
  },
  {
   "cell_type": "code",
   "execution_count": 181,
   "metadata": {},
   "outputs": [
    {
     "name": "stdout",
     "output_type": "stream",
     "text": [
      "To ensure that the Suspicious Matter Report (SMR) captures all points mentioned in the summary:\n",
      "\n",
      "**Points in Summary of Suspicious Activities:**\n",
      "1. Lack of Standard Identification\n",
      "2. Inconsistent Information\n",
      "3. No Phone for Verification\n",
      "4. Urgency and Pressure\n",
      "5. Large International Transfers\n",
      "6. Transfers to Charities Without Adequate Information\n",
      "7. Defensive Response\n",
      "\n",
      "**Verification Against SMR:**\n",
      "\n",
      "1. **Lack of Standard Identification:** The SMR addresses this point in Section III, Item 1. \"Identification Issue: Subject failed to provide standard identification initially; eventually used a passport for ID.\"\n",
      "2. **Inconsistent Information:** Addressed in Section III, Item 2. \"Account Number Discrepancy: Incorrect account number provided, later corrected.\"\n",
      "3. **No Phone for Verification:** Included in Section III, Item 3. \"Phone Number for Verification: Subject claimed to lack a phone, evading a key security control.\"\n",
      "4. **Urgency and Pressure:** Mentioned in Section III, Item 4. \"Urgent Transfer Requests: Subject stressed immediate action for international transfers, pressuring to circumvent normal processes.\"\n",
      "5. **Large International Transfers:** Captured in Section III, Item 5. \"Large International Transactions: Subject requested transfers of significant amounts to international beneficiaries.\"\n",
      "6. **Transfers to Charities Without Adequate Information:** Addressed in Section III, Item 6. \"Transfers to Charities: Subject was vague about recipient charities and unable to provide detailed information when asked.\"\n",
      "7. **Defensive Response:** Documented in Section III, Item 7. \"Defensive Behavior: Subject displayed a defensive attitude when queried about the urgency of the transactions.\"\n",
      "\n",
      "The Suspicious Matter Report (SMR) comprehensively includes all the points mentioned in the summary provided by the reviewer_assistant assistant, thereby capturing the full extent of the suspicious activities noted during the interaction with the customer in question.\n",
      "SUSPICIOUS MATTER REPORT (SMR)\n",
      "\n",
      "I. Reporter Information:\n",
      "- Financial Institution: [Your Bank's Name]\n",
      "- Name of Submitter: [Your Full Name]\n",
      "- Position/Title: [Your Position/Title]\n",
      "- Contact Information: [Your Direct Phone Line and/or Email]\n",
      "- Submission Date: [Date of Submission]\n",
      "\n",
      "II. Subject Information:\n",
      "- Name of Suspect: Alex Tracer (if alias is suspected, please note)\n",
      "- Address: [Not Provided/Available]\n",
      "- Date of Birth: [Not Provided/Available]\n",
      "- Identification Type/Number: Passport ID [Number if available]\n",
      "- Occupation/Industry: [Not Provided/Available]\n",
      "- Account Number(s): [Initial Incorrect Number], [Corrected Account Number]\n",
      "  \n",
      "III. Details of Suspicious Activities:\n",
      "A summary of suspicious activities is as follows:\n",
      "1. Identification Issue: Subject failed to provide standard identification initially; eventually used a passport for ID.\n",
      "2. Account Number Discrepancy: Incorrect account number provided, later corrected.\n",
      "3. Phone Number for Verification: Subject claimed to lack a phone, evading a key security control.\n",
      "4. Urgent Transfer Requests: Subject stressed immediate action for international transfers, pressuring to circumvent normal processes.\n",
      "5. Large International Transactions: Subject requested transfers of significant amounts to international beneficiaries.\n",
      "6. Transfers to Charities: Subject was vague about recipient charities and unable to provide detailed information when asked.\n",
      "7. Defensive Behavior: Subject displayed a defensive attitude when queried about the urgency of the transactions.\n",
      "\n",
      "IV. Financial Information:\n",
      "- Transaction Date(s): [Date of Contact]\n",
      "- Transaction Amount(s): [Specify the amounts for each transfer if available]\n",
      "- Destination Account/Beneficiary Information: [List international organizations if named]\n",
      "\n",
      "V. Reason for Suspicion:\n",
      "The above activities are deemed suspicious due to the following reasons: deviation from typical customer identification protocols, lack of readily available account information by the subject that suggests unfamiliarity or deception, avoidance of critical verification procedures, the urgency applied by the customer indicative of intent to bypass due diligence, nature and direction of fund transfers atypical of regular customer activity, insufficient information concerning charitably intended transfers, and overall defensiveness, which could imply knowledge of illicit actions.\n",
      "\n",
      "VI. Action Taken:\n",
      "Upon identification of these suspicious activities, [describe the steps you have already taken, e.g., assessing ongoing risk, account monitoring, preserving records, management notification].\n",
      "\n",
      "VII. Additional Notes/Comments:\n",
      "[Any other relevant information or contextual notes should be included here].\n",
      "\n",
      "VIII. Attachments/Enclosures:\n",
      "- Transaction records [if applicable]\n",
      "- Call logs or communication transcripts with the subject [if available]\n",
      "- Identification documents provided by the subject [if obtained]\n",
      "\n",
      "IX. Declaration:\n",
      "I, [Your Full Name], hereby declare that the information provided herein is true and accurate to the best of my knowledge and belief, and that this SMR is submitted in accordance with the policies and procedures set forth by [Your Bank's Name] and the applicable laws and regulations.\n",
      "\n",
      "Signature: ___________________\n",
      "Date: [Date of Report Completion]\n",
      "Summary of Suspicious Activities:\n",
      "\n",
      "1. Lack of Standard Identification: Alex Tracer, the customer, was unable to provide a standard form of identification such as an ATM card number or driver’s license, claiming to have lost the former and to be in the process of acquiring the latter. He eventually provided a passport ID for identification.\n",
      "\n",
      "2. Inconsistent Information: Alex Tracer initially provided an incorrect account number, which he then corrected. This could indicate a lack of familiarity with the account details or an attempt to deceive.\n",
      "\n",
      "3. No Phone for Verification: Despite the bank operator, Adam Krivy, attempting to complete an authentication process with a verification code sent to a mobile number, Alex claimed not to have a phone, thus avoiding this security measure.\n",
      "\n",
      "4. Urgency and Pressure: The customer repeatedly stressed the urgency of the transfers, claiming lives were at risk and expressing a strong desire to avoid bank bureaucracy, thereby trying to rush the process and potentially bypass standard security checks.\n",
      "\n",
      "5. Large International Transfers: Alex requested three large-sum transfers to different international organizations, which could raise flags as this activity could be indicative of money laundering or fraudulent activities. \n",
      "\n",
      "6. Transfers to Charities Without Adequate Information: The customer mentioned transferring money to various charities, one of which he could not provide additional information for, asking the operator to look it up. A genuine transfer would typically involve more details and accompanying documentation.\n",
      "\n",
      "7. Defensive Response: When questioned about the urgency of the transfers, Alex Tracer defensively responded that it was none of the operator’s business, further raising suspicion about the legitimacy of the request.\n",
      "\n",
      "Based on these observations, the interaction between Alex Tracer and the bank operator exhibits several red flags that could suggest potential fraudulent activity or an attempt to misuse the banking system for illicit purposes.\n"
     ]
    }
   ],
   "source": [
    "print_messages(thread.id)"
   ]
  },
  {
   "cell_type": "code",
   "execution_count": 182,
   "metadata": {},
   "outputs": [],
   "source": [
    "# Clean-up\n",
    "response = assistant_client.beta.assistants.delete(reviewer_assistant.id)\n",
    "response = assistant_client.beta.assistants.delete(reportwriter_assistant.id)"
   ]
  }
 ],
 "metadata": {
  "colab": {
   "authorship_tag": "ABX9TyMTFqnHcNCOfGXY2H+UtzIz",
   "provenance": []
  },
  "kernelspec": {
   "display_name": "Python 3",
   "name": "python3"
  },
  "language_info": {
   "codemirror_mode": {
    "name": "ipython",
    "version": 3
   },
   "file_extension": ".py",
   "mimetype": "text/x-python",
   "name": "python",
   "nbconvert_exporter": "python",
   "pygments_lexer": "ipython3",
   "version": "3.11.9"
  }
 },
 "nbformat": 4,
 "nbformat_minor": 0
}
